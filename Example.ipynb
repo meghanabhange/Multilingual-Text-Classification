{
 "cells": [
  {
   "cell_type": "markdown",
   "metadata": {},
   "source": [
    "# NB-SVM\n",
    "\n",
    "Ref -https://github.com/Joshua-Chin/nbsvm "
   ]
  },
  {
   "cell_type": "code",
   "execution_count": null,
   "metadata": {},
   "outputs": [],
   "source": [
    "import argparse\n",
    "\n",
    "import pandas as pd\n",
    "from fastai.text import *\n",
    "from sklearn import preprocessing\n",
    "from sklearn.feature_extraction.text import CountVectorizer\n",
    "from sklearn.model_selection import StratifiedKFold\n",
    "from tqdm import tqdm\n",
    "\n",
    "from src.nbsvm import NBSVM\n",
    "from src.utils import load_data as loadD"
   ]
  },
  {
   "cell_type": "code",
   "execution_count": null,
   "metadata": {},
   "outputs": [],
   "source": [
    "lang = \"id\"\n",
    "dataset = \"indosum\"\n",
    "# df_test = pd.read_csv(f\"data/csv/{lang}/{dataset}_test.csv\", sep=\"\\t\", \n",
    "#                        encoding='utf-8', \n",
    "#                        header=None, \n",
    "#                        names=[\"label\", \"text\"])\n",
    "\n",
    "df_test = pd.read_csv(f\"data/csv/{lang}/{dataset}_test.csv\")\n",
    "df_test.dropna(inplace = True)"
   ]
  },
  {
   "cell_type": "code",
   "execution_count": null,
   "metadata": {},
   "outputs": [],
   "source": [
    "df_train = pd.read_csv(f\"data/sampled_{dataset}/csv/1000_{dataset}.csv\")\n",
    "df_train.dropna(inplace=True)\n",
    "\n",
    "X_train, X_test, y_train, y_test = lda(df_train, df_test)\n",
    "mnbsvm = NBSVM()\n",
    "mnbsvm.fit(X_train, y_train)"
   ]
  },
  {
   "cell_type": "code",
   "execution_count": null,
   "metadata": {},
   "outputs": [],
   "source": [
    "sample_size_list = [200, 500, 1000, 2500, 5000, 9000]\n",
    "test_accuracy = {}\n",
    "for n in sample_size_list:\n",
    "    print(f\"Training on {n}\")\n",
    "    df_train = pd.read_csv(f\"data/sampled_{dataset}/csv/{n}_{dataset}.csv\")\n",
    "    X_train, X_test, y_train, y_test = lda(df_train[['label', 'text']], df_test[['label', 'text']])\n",
    "    print(\"Fitting Model\")\n",
    "    mnbsvm = NBSVM()\n",
    "    mnbsvm.fit(X_train, y_train)\n",
    "    print(\"works\")\n",
    "    acc = mnbsvm.score(X_test, y_test)\n",
    "    print(\"Test Accuracy: %s\" % acc)\n",
    "    test_accuracy[f\"{n}_samples\"] = acc\n",
    "print(f\"Accuracies : {test_accuracy}\")\n"
   ]
  },
  {
   "cell_type": "markdown",
   "metadata": {},
   "source": [
    "# ULMFiT"
   ]
  },
  {
   "cell_type": "code",
   "execution_count": null,
   "metadata": {},
   "outputs": [],
   "source": [
    "from src.ulmfit import ULMFiT, LangTokenizer\n",
    "from pathlib import Path\n",
    "import pandas as pd"
   ]
  },
  {
   "cell_type": "code",
   "execution_count": null,
   "metadata": {},
   "outputs": [],
   "source": [
    "df_train= pd.read_csv(f'data/sampled_{dataset}/csv/1000_{dataset}.csv')\n",
    "df_train.dropna(inplace=True)\n",
    "df_test = pd.read_csv(f'data/csv/{lang}/{dataset}_test.csv',)\n",
    "#                        sep=\"\\t\", \n",
    "#                        encoding='utf-8', \n",
    "#                        header=None, \n",
    "#                        names=[\"label\", \"text\"])\n",
    "df_test.dropna(inplace=True)\n",
    "df_lm = pd.read_csv(f'data/csv/{lang}/{dataset}_train.csv',)\n",
    "#                     sep=\"\\t\", \n",
    "#                        encoding='utf-8', \n",
    "#                        header=None, \n",
    "#                        names=[\"label\", \"text\"])\n",
    "df_lm.dropna(inplace=True)"
   ]
  },
  {
   "cell_type": "code",
   "execution_count": null,
   "metadata": {},
   "outputs": [],
   "source": [
    "path = Path('./data')"
   ]
  },
  {
   "cell_type": "code",
   "execution_count": null,
   "metadata": {},
   "outputs": [],
   "source": [
    "model = ULMFiT(lang=\"de\", \n",
    "               path=path, \n",
    "               df_lm=df_lm,\n",
    "               finetune=False, \n",
    "               load_encoder=True,\n",
    "               n_epocs_cls=32, \n",
    "               n_epocs_lm=2)"
   ]
  },
  {
   "cell_type": "code",
   "execution_count": null,
   "metadata": {},
   "outputs": [],
   "source": [
    "# model.load(df_train, df_test)\n",
    "df_train.head(), df_test.head(), df_lm.head()"
   ]
  },
  {
   "cell_type": "code",
   "execution_count": null,
   "metadata": {
    "scrolled": true
   },
   "outputs": [],
   "source": [
    "model.fit(df_train, df_test)"
   ]
  },
  {
   "cell_type": "code",
   "execution_count": null,
   "metadata": {},
   "outputs": [],
   "source": [
    "len(df_lm)"
   ]
  },
  {
   "cell_type": "code",
   "execution_count": null,
   "metadata": {},
   "outputs": [],
   "source": []
  }
 ],
 "metadata": {
  "kernelspec": {
   "display_name": "Python 3",
   "language": "python",
   "name": "python3"
  },
  "language_info": {
   "codemirror_mode": {
    "name": "ipython",
    "version": 3
   },
   "file_extension": ".py",
   "mimetype": "text/x-python",
   "name": "python",
   "nbconvert_exporter": "python",
   "pygments_lexer": "ipython3",
   "version": "3.7.0"
  }
 },
 "nbformat": 4,
 "nbformat_minor": 2
}
