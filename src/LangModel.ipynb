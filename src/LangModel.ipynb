{
 "cells": [
  {
   "cell_type": "code",
   "execution_count": 7,
   "metadata": {},
   "outputs": [],
   "source": [
    "from fastai.text import *"
   ]
  },
  {
   "cell_type": "markdown",
   "metadata": {},
   "source": [
    "# Tokenizer Sentence Piece"
   ]
  },
  {
   "cell_type": "code",
   "execution_count": 8,
   "metadata": {},
   "outputs": [],
   "source": [
    "import sentencepiece as spm\n",
    "lang = \"id\""
   ]
  },
  {
   "cell_type": "code",
   "execution_count": 10,
   "metadata": {},
   "outputs": [
    {
     "data": {
      "text/plain": [
       "True"
      ]
     },
     "execution_count": 10,
     "metadata": {},
     "output_type": "execute_result"
    }
   ],
   "source": [
    "sp = spm.SentencePieceProcessor()\n",
    "sp.Load(f\"{lang}_lm.model\")"
   ]
  },
  {
   "cell_type": "code",
   "execution_count": 11,
   "metadata": {},
   "outputs": [],
   "source": [
    "class LangTokenizer(BaseTokenizer):\n",
    "    def __init__(self, lang: str, vocab_size: int = 60000):\n",
    "        self.lang = lang\n",
    "        self.vocab_size = vocab_size\n",
    "        self.sp = spm.SentencePieceProcessor()\n",
    "        self.sp.Load(f\"{lang}_lm.model\")\n",
    "        self.vocab = Vocab([self.sp.IdToPiece(int(i)) for i in range(self.vocab_size)])\n",
    "\n",
    "    def tokenizer(self, t: str) -> List[str]:\n",
    "        return self.sp.EncodeAsPieces(t)\n",
    "\n",
    "    def detokenizer(self, t: List[str]) -> str:\n",
    "        return self.sp.DecodePieces(t)"
   ]
  },
  {
   "cell_type": "code",
   "execution_count": 12,
   "metadata": {},
   "outputs": [],
   "source": [
    "tokenizer = Tokenizer(tok_func=LangTokenizer, lang=lang)"
   ]
  },
  {
   "cell_type": "code",
   "execution_count": 13,
   "metadata": {},
   "outputs": [],
   "source": [
    "lang = \"id\"\n",
    "path_lm_csv = 'indo_18466.csv'\n",
    "path_data_folder = \"wiki\"\n",
    "german_tokenizer = Tokenizer(lang=lang)\n",
    "data_lm = TextLMDataBunch.from_csv(path_data_folder,path_lm_csv, tokenizer = tokenizer)"
   ]
  },
  {
   "cell_type": "code",
   "execution_count": 14,
   "metadata": {},
   "outputs": [],
   "source": [
    "data_lm.save(\"data_id_lm.\"+\"pkl\")"
   ]
  },
  {
   "cell_type": "code",
   "execution_count": 16,
   "metadata": {},
   "outputs": [
    {
     "name": "stdout",
     "output_type": "stream",
     "text": [
      "wiki data_id_lm.pkl\n"
     ]
    }
   ],
   "source": [
    "data_lm = load_data(\"wiki\",\"data_id_lm.\"+\"pkl\")\n",
    "print(\"wiki\",\"data_id_lm.\"+\"pkl\")"
   ]
  },
  {
   "cell_type": "code",
   "execution_count": 17,
   "metadata": {},
   "outputs": [
    {
     "data": {
      "text/html": [
       "<table border=\"1\" class=\"dataframe\">\n",
       "  <thead>\n",
       "    <tr style=\"text-align: right;\">\n",
       "      <th>idx</th>\n",
       "      <th>text</th>\n",
       "    </tr>\n",
       "  </thead>\n",
       "  <tbody>\n",
       "    <tr>\n",
       "      <td>0</td>\n",
       "      <td>▁buatan ▁dapat ▁di f abrik asi ▁dengan ▁cukup ▁murah . ▁rubi ▁dianggap ▁merupakan ▁salah ▁satu ▁dari ▁empat ▁batu ▁berharga ▁bersama ▁dengan ▁sa fir , ▁ zam rud , ▁dan ▁intan . ▁harga ▁batu ▁rubi ▁terutama ▁ditentukan ▁oleh ▁warna . ▁warna ▁merah ▁paling ▁berkilau ▁dan ▁paling ▁bernilai ▁dapat ▁berharga ▁sangat ▁tinggi ▁melampaui ▁rubi ▁lain ▁dengan ▁mutu ▁yang ▁sama . ▁setelah ▁warna , ▁berikutnya ▁adalah ▁ke jernih an : ▁batu ▁yang ▁jernih</td>\n",
       "    </tr>\n",
       "    <tr>\n",
       "      <td>1</td>\n",
       "      <td>kai dō , ▁tō san dō , ▁dan ▁ho kuri ku dō ▁dikembalikan ▁ke ▁sistem ▁lama ▁yang ▁disebut ▁koku shi . ▁sebagai ▁penghormatan ▁terhadap ▁yoshinaka , ▁permintaan ▁tersebut ▁sedikit ▁di long gar kan ▁dengan ▁tidak ▁memasukkan ▁wilayah ▁ho kuri ku dō ▁yang ▁dimiliki ▁yoshinaka . ▁permintaan ▁tersebut ▁disetujui ▁dan ▁secara ▁\" de ▁facto \", ▁yoritomo ▁menjadi ▁penguasa ▁wilayah ▁sebelah ▁timur ▁jepang . ▁pada ▁tahun ▁11 84 , ▁yoritomo ▁mendirikan ▁lembaga</td>\n",
       "    </tr>\n",
       "    <tr>\n",
       "      <td>2</td>\n",
       "      <td>▁encer ▁ber bu ih . ▁dalam ▁tes ▁\" b low pi pe \", ▁mineral ▁ini ▁melebur ▁dengan ▁cepat , ▁yang ▁mengindikasikan ▁kandungan ▁timbal . ▁ xx bos ▁provinsi ▁maha jang a ▁provinsi ▁maha jang a ▁merupakan ▁sebuah ▁provinsi ▁di ▁madagaskar . ▁provinsi ▁ini ▁memiliki ▁luas ▁wilayah ▁15 0.0 23 ▁km 2. ▁dengan ▁memiliki ▁jumlah ▁penduduk ▁sebanyak ▁1. 73 3.9 17 ▁jiwa ▁(2001). ▁ibu ▁kotanya ▁ialah ▁maha jang a . ▁provinsi</td>\n",
       "    </tr>\n",
       "    <tr>\n",
       "      <td>3</td>\n",
       "      <td>▁cra b tree ▁“ a ▁de scription ▁of ▁satan ism ). ▁menurut ▁roald xxup ▁e ▁kristian sen ▁yang ▁menulis ▁tesis nya ▁tentang ▁setan isme , ▁menyatakan ▁bahwa ▁“ xxmaj set anisme ▁dapat ▁dianggap ▁sebagai ▁sebuah ▁agama ▁darwin istis ▁sosial ▁yang ▁berupaya ▁membela ▁hak - hak ▁golongan ▁terkuat ▁untuk ▁menguasai ▁yang ▁lemah , ▁karena ▁itulah ▁cara ▁manusia ▁untuk ▁maju ▁sebagai ▁sejenis ▁makhluk ▁biologis , ▁sehingga ▁tetap ▁memelihara ▁perannya ▁sebagai ▁ujung ▁tombak</td>\n",
       "    </tr>\n",
       "    <tr>\n",
       "      <td>4</td>\n",
       "      <td>, ▁washington ▁post ▁dll . ▁ xx bos ▁pasir mu ncang , ▁pan ying kiran , ▁majalengka ▁pasir mu ncang ▁adalah ▁desa ▁di ▁kecamatan ▁pan ying kiran , ▁majalengka , ▁jawa ▁barat , ▁indonesia . ▁pasir mu ncang ▁adalah ▁sentral ▁mangga ▁gedong ▁gin cu . . . ▁by . ▁kaur ▁ek bang ( xxmaj af ip ▁roh endi , xxup ▁s . xxmaj sos ) ▁ xx bos ▁presiden ▁pro</td>\n",
       "    </tr>\n",
       "  </tbody>\n",
       "</table>"
      ],
      "text/plain": [
       "<IPython.core.display.HTML object>"
      ]
     },
     "metadata": {},
     "output_type": "display_data"
    }
   ],
   "source": [
    "data_lm.show_batch()"
   ]
  },
  {
   "cell_type": "code",
   "execution_count": 18,
   "metadata": {},
   "outputs": [],
   "source": [
    "learn = language_model_learner(data_lm, AWD_LSTM, drop_mult=0.5)"
   ]
  },
  {
   "cell_type": "code",
   "execution_count": 19,
   "metadata": {},
   "outputs": [
    {
     "data": {
      "text/html": [
       "<table border=\"1\" class=\"dataframe\">\n",
       "  <thead>\n",
       "    <tr style=\"text-align: left;\">\n",
       "      <th>epoch</th>\n",
       "      <th>train_loss</th>\n",
       "      <th>valid_loss</th>\n",
       "      <th>accuracy</th>\n",
       "      <th>time</th>\n",
       "    </tr>\n",
       "  </thead>\n",
       "  <tbody>\n",
       "    <tr>\n",
       "      <td>0</td>\n",
       "      <td>7.301987</td>\n",
       "      <td>7.165213</td>\n",
       "      <td>0.112137</td>\n",
       "      <td>05:26</td>\n",
       "    </tr>\n",
       "    <tr>\n",
       "      <td>1</td>\n",
       "      <td>6.350969</td>\n",
       "      <td>6.232868</td>\n",
       "      <td>0.170812</td>\n",
       "      <td>05:53</td>\n",
       "    </tr>\n",
       "    <tr>\n",
       "      <td>2</td>\n",
       "      <td>5.977445</td>\n",
       "      <td>5.887409</td>\n",
       "      <td>0.188097</td>\n",
       "      <td>05:57</td>\n",
       "    </tr>\n",
       "    <tr>\n",
       "      <td>3</td>\n",
       "      <td>5.762943</td>\n",
       "      <td>5.770086</td>\n",
       "      <td>0.194321</td>\n",
       "      <td>05:44</td>\n",
       "    </tr>\n",
       "    <tr>\n",
       "      <td>4</td>\n",
       "      <td>5.727080</td>\n",
       "      <td>5.752162</td>\n",
       "      <td>0.195434</td>\n",
       "      <td>05:30</td>\n",
       "    </tr>\n",
       "  </tbody>\n",
       "</table>"
      ],
      "text/plain": [
       "<IPython.core.display.HTML object>"
      ]
     },
     "metadata": {},
     "output_type": "display_data"
    }
   ],
   "source": [
    "learn.fit_one_cycle(5, 1e-3)"
   ]
  },
  {
   "cell_type": "code",
   "execution_count": 20,
   "metadata": {},
   "outputs": [
    {
     "data": {
      "image/png": "[encoded data removed]",
      "text/plain": [
       "<Figure size 432x288 with 1 Axes>"
      ]
     },
     "metadata": {
      "needs_background": "light"
     },
     "output_type": "display_data"
    }
   ],
   "source": [
    "learn.recorder.plot(skip_end=12)"
   ]
  },
  {
   "cell_type": "code",
   "execution_count": 21,
   "metadata": {},
   "outputs": [],
   "source": [
    "learn.save(f'{lang}-lm')"
   ]
  },
  {
   "cell_type": "code",
   "execution_count": null,
   "metadata": {},
   "outputs": [],
   "source": []
  }
 ],
 "metadata": {
  "kernelspec": {
   "display_name": "Python 3",
   "language": "python",
   "name": "python3"
  },
  "language_info": {
   "codemirror_mode": {
    "name": "ipython",
    "version": 3
   },
   "file_extension": ".py",
   "mimetype": "text/x-python",
   "name": "python",
   "nbconvert_exporter": "python",
   "pygments_lexer": "ipython3",
   "version": "3.7.0"
  }
 },
 "nbformat": 4,
 "nbformat_minor": 2
}
